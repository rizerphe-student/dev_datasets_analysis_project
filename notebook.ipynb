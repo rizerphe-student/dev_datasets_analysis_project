{
  "cells": [
    {
      "cell_type": "markdown",
      "metadata": {},
      "source": [
        "# Clone the repo\n",
        "### (For use in colab)\n",
        "[![Open in Colaboratory](https://colab.research.google.com/assets/colab-badge.svg)](https://colab.research.google.com/github/rizerphe/dev_datasets_analysis_project/blob/main/notebook.ipynb)"
      ]
    },
    {
      "cell_type": "code",
      "execution_count": null,
      "metadata": {
        "id": "kLUhOxEQFckG"
      },
      "outputs": [],
      "source": [
        "!git clone --recursive https://github.com/rizerphe/dev_datasets_analysis_project.git\n",
        "%cd dev_datasets_analysis_project\n",
        "!python download_stackoverflow.py"
      ]
    },
    {
      "cell_type": "markdown",
      "metadata": {},
      "source": [
        "# Load the dataset"
      ]
    },
    {
      "cell_type": "code",
      "execution_count": 1,
      "metadata": {},
      "outputs": [],
      "source": [
        "import pandas as pd\n",
        "import numpy as np"
      ]
    },
    {
      "cell_type": "code",
      "execution_count": 63,
      "metadata": {},
      "outputs": [
        {
          "data": {
            "text/plain": [
              "Index(['Timestamp', 'Ви працюєте зараз в ІТ?', 'Де ви мешкаєте?',\n",
              "       'Де ви працюєте?', 'Ваша стать', 'Ваш вік', 'Яка у вас освіта?',\n",
              "       'Чи є у вас науковий ступінь? ', 'Знання англійської мови',\n",
              "       'Оберіть вашу посаду', 'Ваш тайтл', 'Ваш тайтл.1',\n",
              "       'Вкажіть вашу спеціалізацію', 'Оберіть вашу посаду.1', 'Ваш тайтл.2',\n",
              "       'Ваша посада', 'Ваш тайтл.3', 'Оберіть вашу посаду.2', 'Ваш тайтл.4',\n",
              "       'Ваша посада.1', 'Ваш тайтл.5', 'Ваша посада.2', 'Ваш тайтл.6',\n",
              "       'Ваша посада.3', 'Ваш тайтл.7', 'Ваша посада.4', 'Ваш тайтл.8',\n",
              "       'Ваш тайтл.9', 'Ваша посада.5',\n",
              "       'Чи використовуєте ви у своїй роботі мови програмування (одну чи декілька)?',\n",
              "       'Основна мова програмування', 'Інші мови програмування',\n",
              "       'Платформи, для яких розробляєте на поточному місці роботи?',\n",
              "       'Вкажіть вашу основну спеціалізацію', 'В якій сфері працюєте?',\n",
              "       'Тип компанії', 'Кількість спеціалістів у вашій компанії (в Україні)',\n",
              "       'Загальний стаж роботи в ІТ', 'Загальний стаж роботи за спеціальністю',\n",
              "       'У скількох компаніях встигли попрацювати за час ІТ-кар'єри?',\n",
              "       'Зарплата у $$$ за місяць, лише ставка після сплати податків',\n",
              "       'Наскільки змінилась ваша зарплата за останні 12 місяців?',\n",
              "       'Ставка у $$$ за годину, яку ви виставляєте клієнтам',\n",
              "       'Чи отримуєте ви грошові бонуси до зарплати?',\n",
              "       'Вкажіть суму цього бонуса у $$$ після податків'],\n",
              "      dtype='object')"
            ]
          },
          "execution_count": 63,
          "metadata": {},
          "output_type": "execute_result"
        }
      ],
      "source": [
        "dec_2021 = pd.read_csv('./csv/salaries/2021_dec_raw.csv', delimiter=';')\n",
        "dec_2021.columns"
      ]
    },
    {
      "cell_type": "code",
      "execution_count": 54,
      "metadata": {},
      "outputs": [
        {
          "name": "stderr",
          "output_type": "stream",
          "text": [
            "C:\\Users\\Victor\\AppData\\Local\\Temp\\ipykernel_14404\\333639481.py:2: SettingWithCopyWarning: \n",
            "A value is trying to be set on a copy of a slice from a DataFrame.\n",
            "Try using .loc[row_indexer,col_indexer] = value instead\n",
            "\n",
            "See the caveats in the documentation: https://pandas.pydata.org/pandas-docs/stable/user_guide/indexing.html#returning-a-view-versus-a-copy\n",
            "  dec_2021_devs['Зарплата у $$$ за місяць, лише ставка після сплати податків'] = dec_2021_devs['Зарплата у $$$ за місяць, лише ставка після сплати податків'].astype(int)\n"
          ]
        },
        {
          "data": {
            "text/html": [
              "<div>\n",
              "<style scoped>\n",
              "    .dataframe tbody tr th:only-of-type {\n",
              "        vertical-align: middle;\n",
              "    }\n",
              "\n",
              "    .dataframe tbody tr th {\n",
              "        vertical-align: top;\n",
              "    }\n",
              "\n",
              "    .dataframe thead th {\n",
              "        text-align: right;\n",
              "    }\n",
              "</style>\n",
              "<table border=\"1\" class=\"dataframe\">\n",
              "  <thead>\n",
              "    <tr style=\"text-align: right;\">\n",
              "      <th></th>\n",
              "      <th>Timestamp</th>\n",
              "      <th>Ви працюєте зараз в ІТ?</th>\n",
              "      <th>Де ви мешкаєте?</th>\n",
              "      <th>Де ви працюєте?</th>\n",
              "      <th>Ваша стать</th>\n",
              "      <th>Ваш вік</th>\n",
              "      <th>Яка у вас освіта?</th>\n",
              "      <th>Чи є у вас науковий ступінь?</th>\n",
              "      <th>Знання англійської мови</th>\n",
              "      <th>Оберіть вашу посаду</th>\n",
              "      <th>...</th>\n",
              "      <th>Тип компанії</th>\n",
              "      <th>Кількість спеціалістів у вашій компанії (в Україні)</th>\n",
              "      <th>Загальний стаж роботи в ІТ</th>\n",
              "      <th>Загальний стаж роботи за спеціальністю</th>\n",
              "      <th>У скількох компаніях встигли попрацювати за час ІТ-кар'єри?</th>\n",
              "      <th>Зарплата у $$$ за місяць, лише ставка після сплати податків</th>\n",
              "      <th>Наскільки змінилась ваша зарплата за останні 12 місяців?</th>\n",
              "      <th>Ставка у $$$ за годину, яку ви виставляєте клієнтам</th>\n",
              "      <th>Чи отримуєте ви грошові бонуси до зарплати?</th>\n",
              "      <th>Вкажіть суму цього бонуса у $$$ після податків</th>\n",
              "    </tr>\n",
              "  </thead>\n",
              "  <tbody>\n",
              "    <tr>\n",
              "      <th>6187</th>\n",
              "      <td>11/30/2021 16:50:41</td>\n",
              "      <td>Так, працюю full-time</td>\n",
              "      <td>Дніпро</td>\n",
              "      <td>Віддалено</td>\n",
              "      <td>Чоловік</td>\n",
              "      <td>33</td>\n",
              "      <td>Вища (бакалавр, спеціаліст, магістр)</td>\n",
              "      <td>Немає</td>\n",
              "      <td>Advanced</td>\n",
              "      <td>Software Engineer (Junior, Middle, Senior, Tea...</td>\n",
              "      <td>...</td>\n",
              "      <td>Аутстафінгова</td>\n",
              "      <td>до 1000</td>\n",
              "      <td>10 і більше років</td>\n",
              "      <td>10 і більше років</td>\n",
              "      <td>5–7</td>\n",
              "      <td>18000</td>\n",
              "      <td>5600</td>\n",
              "      <td>NaN</td>\n",
              "      <td>Отримую бонус за гарні показники роботи, але н...</td>\n",
              "      <td>NaN</td>\n",
              "    </tr>\n",
              "    <tr>\n",
              "      <th>6188</th>\n",
              "      <td>11/29/2021 12:20:22</td>\n",
              "      <td>Так, працюю full-time</td>\n",
              "      <td>Львів</td>\n",
              "      <td>Частково віддалено, частково в офісі</td>\n",
              "      <td>Чоловік</td>\n",
              "      <td>29</td>\n",
              "      <td>Вища (бакалавр, спеціаліст, магістр)</td>\n",
              "      <td>Доктор наук</td>\n",
              "      <td>Upper-Intermediate</td>\n",
              "      <td>Software Engineer (Junior, Middle, Senior, Tea...</td>\n",
              "      <td>...</td>\n",
              "      <td>Аутсорсингова</td>\n",
              "      <td>понад 1000</td>\n",
              "      <td>10 і більше років</td>\n",
              "      <td>5 років</td>\n",
              "      <td>5–7</td>\n",
              "      <td>16800</td>\n",
              "      <td>2400</td>\n",
              "      <td>145</td>\n",
              "      <td>Ні, не отримую</td>\n",
              "      <td>NaN</td>\n",
              "    </tr>\n",
              "    <tr>\n",
              "      <th>6189</th>\n",
              "      <td>11/30/2021 11:36:42</td>\n",
              "      <td>Так, працюю full-time</td>\n",
              "      <td>Львів</td>\n",
              "      <td>Частково віддалено, частково в офісі</td>\n",
              "      <td>Чоловік</td>\n",
              "      <td>33</td>\n",
              "      <td>Вища (бакалавр, спеціаліст, магістр)</td>\n",
              "      <td>Немає</td>\n",
              "      <td>Advanced</td>\n",
              "      <td>Software Engineer (Junior, Middle, Senior, Tea...</td>\n",
              "      <td>...</td>\n",
              "      <td>Продуктова</td>\n",
              "      <td>до 50</td>\n",
              "      <td>10 і більше років</td>\n",
              "      <td>10 і більше років</td>\n",
              "      <td>5–7</td>\n",
              "      <td>15250</td>\n",
              "      <td>9250</td>\n",
              "      <td>NaN</td>\n",
              "      <td>Отримую бонус за гарні показники роботи, але н...</td>\n",
              "      <td>2500</td>\n",
              "    </tr>\n",
              "    <tr>\n",
              "      <th>6190</th>\n",
              "      <td>12.05.2021 19:37</td>\n",
              "      <td>Так, працюю full-time</td>\n",
              "      <td>Харків</td>\n",
              "      <td>Віддалено</td>\n",
              "      <td>Чоловік</td>\n",
              "      <td>35</td>\n",
              "      <td>Вища (бакалавр, спеціаліст, магістр)</td>\n",
              "      <td>Немає</td>\n",
              "      <td>Upper-Intermediate</td>\n",
              "      <td>Software Engineer (Junior, Middle, Senior, Tea...</td>\n",
              "      <td>...</td>\n",
              "      <td>Аутсорсингова</td>\n",
              "      <td>до 1000</td>\n",
              "      <td>8 років</td>\n",
              "      <td>4 роки</td>\n",
              "      <td>8 і більше</td>\n",
              "      <td>15000</td>\n",
              "      <td>5000</td>\n",
              "      <td>NaN</td>\n",
              "      <td>Отримую бонус щомісяця</td>\n",
              "      <td>2000</td>\n",
              "    </tr>\n",
              "    <tr>\n",
              "      <th>6191</th>\n",
              "      <td>11/29/2021 11:00:54</td>\n",
              "      <td>Так, працюю full-time</td>\n",
              "      <td>Київ</td>\n",
              "      <td>Віддалено</td>\n",
              "      <td>Чоловік</td>\n",
              "      <td>34</td>\n",
              "      <td>Вища (бакалавр, спеціаліст, магістр)</td>\n",
              "      <td>Немає</td>\n",
              "      <td>Advanced</td>\n",
              "      <td>Software Engineer (Junior, Middle, Senior, Tea...</td>\n",
              "      <td>...</td>\n",
              "      <td>Продуктова</td>\n",
              "      <td>до 50</td>\n",
              "      <td>10 і більше років</td>\n",
              "      <td>10 і більше років</td>\n",
              "      <td>NaN</td>\n",
              "      <td>14300</td>\n",
              "      <td>5530</td>\n",
              "      <td>55</td>\n",
              "      <td>Ні, не отримую</td>\n",
              "      <td>NaN</td>\n",
              "    </tr>\n",
              "    <tr>\n",
              "      <th>...</th>\n",
              "      <td>...</td>\n",
              "      <td>...</td>\n",
              "      <td>...</td>\n",
              "      <td>...</td>\n",
              "      <td>...</td>\n",
              "      <td>...</td>\n",
              "      <td>...</td>\n",
              "      <td>...</td>\n",
              "      <td>...</td>\n",
              "      <td>...</td>\n",
              "      <td>...</td>\n",
              "      <td>...</td>\n",
              "      <td>...</td>\n",
              "      <td>...</td>\n",
              "      <td>...</td>\n",
              "      <td>...</td>\n",
              "      <td>...</td>\n",
              "      <td>...</td>\n",
              "      <td>...</td>\n",
              "      <td>...</td>\n",
              "      <td>...</td>\n",
              "    </tr>\n",
              "    <tr>\n",
              "      <th>14187</th>\n",
              "      <td>12/15/2021 11:35:02</td>\n",
              "      <td>Так, працюю full-time</td>\n",
              "      <td>Вінниця</td>\n",
              "      <td>В офісі</td>\n",
              "      <td>Жінка</td>\n",
              "      <td>20</td>\n",
              "      <td>Ще студент вишу</td>\n",
              "      <td>Немає</td>\n",
              "      <td>Intermediate</td>\n",
              "      <td>Software Engineer (Junior, Middle, Senior, Tea...</td>\n",
              "      <td>...</td>\n",
              "      <td>Аутстафінгова</td>\n",
              "      <td>до 200</td>\n",
              "      <td>Пів року</td>\n",
              "      <td>Пів року</td>\n",
              "      <td>1</td>\n",
              "      <td>100</td>\n",
              "      <td>any changes</td>\n",
              "      <td>NaN</td>\n",
              "      <td>Ні, не отримую</td>\n",
              "      <td>NaN</td>\n",
              "    </tr>\n",
              "    <tr>\n",
              "      <th>14188</th>\n",
              "      <td>12.12.2021 17:30</td>\n",
              "      <td>Так, працюю full-time</td>\n",
              "      <td>Вінниця</td>\n",
              "      <td>В офісі</td>\n",
              "      <td>Чоловік</td>\n",
              "      <td>25</td>\n",
              "      <td>Вища (бакалавр, спеціаліст, магістр)</td>\n",
              "      <td>Немає</td>\n",
              "      <td>Pre-Intermediate</td>\n",
              "      <td>Software Engineer (Junior, Middle, Senior, Tea...</td>\n",
              "      <td>...</td>\n",
              "      <td>Продуктова</td>\n",
              "      <td>до 200</td>\n",
              "      <td>Менше як 3 місяці</td>\n",
              "      <td>Пів року</td>\n",
              "      <td>2</td>\n",
              "      <td>100</td>\n",
              "      <td>100</td>\n",
              "      <td>NaN</td>\n",
              "      <td>Ні, не отримую</td>\n",
              "      <td>NaN</td>\n",
              "    </tr>\n",
              "    <tr>\n",
              "      <th>14189</th>\n",
              "      <td>12/15/2021 15:14:29</td>\n",
              "      <td>Так, працюю full-time</td>\n",
              "      <td>Київ</td>\n",
              "      <td>Віддалено</td>\n",
              "      <td>Чоловік</td>\n",
              "      <td>35</td>\n",
              "      <td>Вища (бакалавр, спеціаліст, магістр)</td>\n",
              "      <td>Немає</td>\n",
              "      <td>Intermediate</td>\n",
              "      <td>Software Engineer (Junior, Middle, Senior, Tea...</td>\n",
              "      <td>...</td>\n",
              "      <td>Стартап</td>\n",
              "      <td>Лише я</td>\n",
              "      <td>Менше як 3 місяці</td>\n",
              "      <td>Менше як 3 місяці</td>\n",
              "      <td>1</td>\n",
              "      <td>100</td>\n",
              "      <td>10</td>\n",
              "      <td>1</td>\n",
              "      <td>Ні, не отримую</td>\n",
              "      <td>0</td>\n",
              "    </tr>\n",
              "    <tr>\n",
              "      <th>14190</th>\n",
              "      <td>12/16/2021 16:12:48</td>\n",
              "      <td>Так, працюю full-time</td>\n",
              "      <td>Київ</td>\n",
              "      <td>Віддалено</td>\n",
              "      <td>Чоловік</td>\n",
              "      <td>18</td>\n",
              "      <td>Середня спеціальна</td>\n",
              "      <td>Немає</td>\n",
              "      <td>Intermediate</td>\n",
              "      <td>Software Engineer (Junior, Middle, Senior, Tea...</td>\n",
              "      <td>...</td>\n",
              "      <td>Стартап</td>\n",
              "      <td>до 10 спеціалістів</td>\n",
              "      <td>Пів року</td>\n",
              "      <td>Пів року</td>\n",
              "      <td>1</td>\n",
              "      <td>100</td>\n",
              "      <td>0</td>\n",
              "      <td>NaN</td>\n",
              "      <td>Отримую бонус за гарні показники роботи, але н...</td>\n",
              "      <td>50</td>\n",
              "    </tr>\n",
              "    <tr>\n",
              "      <th>14191</th>\n",
              "      <td>12/19/2021 15:55:50</td>\n",
              "      <td>Так, працюю part-time</td>\n",
              "      <td>Київ</td>\n",
              "      <td>Віддалено</td>\n",
              "      <td>Чоловік</td>\n",
              "      <td>18</td>\n",
              "      <td>Ще студент вишу</td>\n",
              "      <td>Немає</td>\n",
              "      <td>Intermediate</td>\n",
              "      <td>Software Engineer (Junior, Middle, Senior, Tea...</td>\n",
              "      <td>...</td>\n",
              "      <td>Інша</td>\n",
              "      <td>до 50</td>\n",
              "      <td>Менше як 3 місяці</td>\n",
              "      <td>Менше як 3 місяці</td>\n",
              "      <td>1</td>\n",
              "      <td>100</td>\n",
              "      <td>0</td>\n",
              "      <td>NaN</td>\n",
              "      <td>Ні, не отримую</td>\n",
              "      <td>NaN</td>\n",
              "    </tr>\n",
              "  </tbody>\n",
              "</table>\n",
              "<p>8005 rows × 45 columns</p>\n",
              "</div>"
            ],
            "text/plain": [
              "                 Timestamp Ви працюєте зараз в ІТ? Де ви мешкаєте?  \\\n",
              "6187   11/30/2021 16:50:41   Так, працюю full-time          Дніпро   \n",
              "6188   11/29/2021 12:20:22   Так, працюю full-time           Львів   \n",
              "6189   11/30/2021 11:36:42   Так, працюю full-time           Львів   \n",
              "6190      12.05.2021 19:37   Так, працюю full-time          Харків   \n",
              "6191   11/29/2021 11:00:54   Так, працюю full-time            Київ   \n",
              "...                    ...                     ...             ...   \n",
              "14187  12/15/2021 11:35:02   Так, працюю full-time         Вінниця   \n",
              "14188     12.12.2021 17:30   Так, працюю full-time         Вінниця   \n",
              "14189  12/15/2021 15:14:29   Так, працюю full-time            Київ   \n",
              "14190  12/16/2021 16:12:48   Так, працюю full-time            Київ   \n",
              "14191  12/19/2021 15:55:50   Так, працюю part-time            Київ   \n",
              "\n",
              "                            Де ви працюєте? Ваша стать  Ваш вік  \\\n",
              "6187                              Віддалено    Чоловік       33   \n",
              "6188   Частково віддалено, частково в офісі    Чоловік       29   \n",
              "6189   Частково віддалено, частково в офісі    Чоловік       33   \n",
              "6190                              Віддалено    Чоловік       35   \n",
              "6191                              Віддалено    Чоловік       34   \n",
              "...                                     ...        ...      ...   \n",
              "14187                               В офісі      Жінка       20   \n",
              "14188                               В офісі    Чоловік       25   \n",
              "14189                             Віддалено    Чоловік       35   \n",
              "14190                             Віддалено    Чоловік       18   \n",
              "14191                             Віддалено    Чоловік       18   \n",
              "\n",
              "                          Яка у вас освіта? Чи є у вас науковий ступінь?   \\\n",
              "6187   Вища (бакалавр, спеціаліст, магістр)                         Немає   \n",
              "6188   Вища (бакалавр, спеціаліст, магістр)                   Доктор наук   \n",
              "6189   Вища (бакалавр, спеціаліст, магістр)                         Немає   \n",
              "6190   Вища (бакалавр, спеціаліст, магістр)                         Немає   \n",
              "6191   Вища (бакалавр, спеціаліст, магістр)                         Немає   \n",
              "...                                     ...                           ...   \n",
              "14187                       Ще студент вишу                         Немає   \n",
              "14188  Вища (бакалавр, спеціаліст, магістр)                         Немає   \n",
              "14189  Вища (бакалавр, спеціаліст, магістр)                         Немає   \n",
              "14190                    Середня спеціальна                         Немає   \n",
              "14191                       Ще студент вишу                         Немає   \n",
              "\n",
              "      Знання англійської мови  \\\n",
              "6187                 Advanced   \n",
              "6188       Upper-Intermediate   \n",
              "6189                 Advanced   \n",
              "6190       Upper-Intermediate   \n",
              "6191                 Advanced   \n",
              "...                       ...   \n",
              "14187            Intermediate   \n",
              "14188        Pre-Intermediate   \n",
              "14189            Intermediate   \n",
              "14190            Intermediate   \n",
              "14191            Intermediate   \n",
              "\n",
              "                                     Оберіть вашу посаду  ...   Тип компанії  \\\n",
              "6187   Software Engineer (Junior, Middle, Senior, Tea...  ...  Аутстафінгова   \n",
              "6188   Software Engineer (Junior, Middle, Senior, Tea...  ...  Аутсорсингова   \n",
              "6189   Software Engineer (Junior, Middle, Senior, Tea...  ...     Продуктова   \n",
              "6190   Software Engineer (Junior, Middle, Senior, Tea...  ...  Аутсорсингова   \n",
              "6191   Software Engineer (Junior, Middle, Senior, Tea...  ...     Продуктова   \n",
              "...                                                  ...  ...            ...   \n",
              "14187  Software Engineer (Junior, Middle, Senior, Tea...  ...  Аутстафінгова   \n",
              "14188  Software Engineer (Junior, Middle, Senior, Tea...  ...     Продуктова   \n",
              "14189  Software Engineer (Junior, Middle, Senior, Tea...  ...        Стартап   \n",
              "14190  Software Engineer (Junior, Middle, Senior, Tea...  ...        Стартап   \n",
              "14191  Software Engineer (Junior, Middle, Senior, Tea...  ...           Інша   \n",
              "\n",
              "      Кількість спеціалістів у вашій компанії (в Україні)  \\\n",
              "6187                                             до 1000    \n",
              "6188                                          понад 1000    \n",
              "6189                                               до 50    \n",
              "6190                                             до 1000    \n",
              "6191                                               до 50    \n",
              "...                                                  ...    \n",
              "14187                                             до 200    \n",
              "14188                                             до 200    \n",
              "14189                                             Лише я    \n",
              "14190                                 до 10 спеціалістів    \n",
              "14191                                              до 50    \n",
              "\n",
              "      Загальний стаж роботи в ІТ Загальний стаж роботи за спеціальністю  \\\n",
              "6187           10 і більше років                      10 і більше років   \n",
              "6188           10 і більше років                                5 років   \n",
              "6189           10 і більше років                      10 і більше років   \n",
              "6190                     8 років                                 4 роки   \n",
              "6191           10 і більше років                      10 і більше років   \n",
              "...                          ...                                    ...   \n",
              "14187                   Пів року                               Пів року   \n",
              "14188          Менше як 3 місяці                               Пів року   \n",
              "14189          Менше як 3 місяці                      Менше як 3 місяці   \n",
              "14190                   Пів року                               Пів року   \n",
              "14191          Менше як 3 місяці                      Менше як 3 місяці   \n",
              "\n",
              "      У скількох компаніях встигли попрацювати за час ІТ-кар'єри?  \\\n",
              "6187                                                 5–7            \n",
              "6188                                                 5–7            \n",
              "6189                                                 5–7            \n",
              "6190                                          8 і більше            \n",
              "6191                                                 NaN            \n",
              "...                                                  ...            \n",
              "14187                                                  1            \n",
              "14188                                                  2            \n",
              "14189                                                  1            \n",
              "14190                                                  1            \n",
              "14191                                                  1            \n",
              "\n",
              "      Зарплата у $$$ за місяць, лише ставка після сплати податків  \\\n",
              "6187                                               18000            \n",
              "6188                                               16800            \n",
              "6189                                               15250            \n",
              "6190                                               15000            \n",
              "6191                                               14300            \n",
              "...                                                  ...            \n",
              "14187                                                100            \n",
              "14188                                                100            \n",
              "14189                                                100            \n",
              "14190                                                100            \n",
              "14191                                                100            \n",
              "\n",
              "      Наскільки змінилась ваша зарплата за останні 12 місяців?  \\\n",
              "6187                                                5600         \n",
              "6188                                                2400         \n",
              "6189                                                9250         \n",
              "6190                                                5000         \n",
              "6191                                                5530         \n",
              "...                                                  ...         \n",
              "14187                                        any changes         \n",
              "14188                                                100         \n",
              "14189                                                 10         \n",
              "14190                                                  0         \n",
              "14191                                                  0         \n",
              "\n",
              "      Ставка у $$$ за годину, яку ви виставляєте клієнтам  \\\n",
              "6187                                                 NaN    \n",
              "6188                                                 145    \n",
              "6189                                                 NaN    \n",
              "6190                                                 NaN    \n",
              "6191                                                  55    \n",
              "...                                                  ...    \n",
              "14187                                                NaN    \n",
              "14188                                                NaN    \n",
              "14189                                                  1    \n",
              "14190                                                NaN    \n",
              "14191                                                NaN    \n",
              "\n",
              "             Чи отримуєте ви грошові бонуси до зарплати?  \\\n",
              "6187   Отримую бонус за гарні показники роботи, але н...   \n",
              "6188                                      Ні, не отримую   \n",
              "6189   Отримую бонус за гарні показники роботи, але н...   \n",
              "6190                              Отримую бонус щомісяця   \n",
              "6191                                      Ні, не отримую   \n",
              "...                                                  ...   \n",
              "14187                                     Ні, не отримую   \n",
              "14188                                     Ні, не отримую   \n",
              "14189                                     Ні, не отримую   \n",
              "14190  Отримую бонус за гарні показники роботи, але н...   \n",
              "14191                                     Ні, не отримую   \n",
              "\n",
              "      Вкажіть суму цього бонуса у $$$ після податків  \n",
              "6187                                             NaN  \n",
              "6188                                             NaN  \n",
              "6189                                            2500  \n",
              "6190                                            2000  \n",
              "6191                                             NaN  \n",
              "...                                              ...  \n",
              "14187                                            NaN  \n",
              "14188                                            NaN  \n",
              "14189                                              0  \n",
              "14190                                             50  \n",
              "14191                                            NaN  \n",
              "\n",
              "[8005 rows x 45 columns]"
            ]
          },
          "execution_count": 54,
          "metadata": {},
          "output_type": "execute_result"
        }
      ],
      "source": [
        "dec_2021_devs = dec_2021[dec_2021['Оберіть вашу посаду'] == 'Software Engineer (Junior, Middle, Senior, Team/Tech Lead, Architect)']\n",
        "dec_2021_devs['Зарплата у $$$ за місяць, лише ставка після сплати податків'] = dec_2021_devs['Зарплата у $$$ за місяць, лише ставка після сплати податків'].astype(int)\n",
        "dec_2021_devs = dec_2021_devs.dropna(subset=['Зарплата у $$$ за місяць, лише ставка після сплати податків'])\n",
        "dec_2021_devs"
      ]
    },
    {
      "cell_type": "markdown",
      "metadata": {},
      "source": [
        "# Середня зарплата програміста"
      ]
    },
    {
      "cell_type": "code",
      "execution_count": 55,
      "metadata": {},
      "outputs": [
        {
          "data": {
            "text/plain": [
              "3463.350156152405"
            ]
          },
          "execution_count": 55,
          "metadata": {},
          "output_type": "execute_result"
        }
      ],
      "source": [
        "dec_2021_devs['Зарплата у $$$ за місяць, лише ставка після сплати податків'].mean()"
      ]
    },
    {
      "cell_type": "code",
      "execution_count": 56,
      "metadata": {},
      "outputs": [
        {
          "data": {
            "text/plain": [
              "Київ                3376\n",
              "Львів               1133\n",
              "Харків              1039\n",
              "Дніпро               449\n",
              "Одеса                410\n",
              "Вінниця              233\n",
              "Інше                 218\n",
              "Івано-Франківськ     163\n",
              "Запоріжжя            105\n",
              "Чернівці             103\n",
              "Тернопіль             88\n",
              "Черкаси               79\n",
              "Хмельницький          76\n",
              "Миколаїв              74\n",
              "Рівне                 60\n",
              "Полтава               54\n",
              "Житомир               53\n",
              "Суми                  50\n",
              "Чернігів              49\n",
              "Луцьк                 46\n",
              "Ужгород               41\n",
              "Херсон                35\n",
              "Кропивницький         33\n",
              "Кривий Ріг            20\n",
              "Маріуполь             18\n",
              "Name: Де ви мешкаєте?, dtype: int64"
            ]
          },
          "execution_count": 56,
          "metadata": {},
          "output_type": "execute_result"
        }
      ],
      "source": [
        "dec_2021_devs['Де ви мешкаєте?'].value_counts()"
      ]
    },
    {
      "cell_type": "code",
      "execution_count": null,
      "metadata": {},
      "outputs": [],
      "source": []
    },
    {
      "cell_type": "code",
      "execution_count": 61,
      "metadata": {},
      "outputs": [
        {
          "data": {
            "text/plain": [
              "Де ви мешкаєте?\n",
              "Київ                3822.633294\n",
              "Львів               3549.886143\n",
              "Одеса               3451.226829\n",
              "Дніпро              3338.937639\n",
              "Харків              3330.210780\n",
              "Вінниця             3067.253219\n",
              "Івано-Франківськ    3049.858896\n",
              "Маріуполь           2959.444444\n",
              "Ужгород             2894.024390\n",
              "Тернопіль           2846.272727\n",
              "Чернігів            2810.612245\n",
              "Інше                2805.766055\n",
              "Суми                2766.200000\n",
              "Херсон              2732.257143\n",
              "Черкаси             2726.455696\n",
              "Миколаїв            2681.216216\n",
              "Житомир             2661.490566\n",
              "Рівне               2660.916667\n",
              "Запоріжжя           2645.476190\n",
              "Хмельницький        2630.105263\n",
              "Луцьк               2611.739130\n",
              "Полтава             2590.833333\n",
              "Чернівці            2396.902913\n",
              "Кривий Ріг          2343.450000\n",
              "Кропивницький       1791.818182\n",
              "Name: Зарплата у $$$ за місяць, лише ставка після сплати податків, dtype: float64"
            ]
          },
          "execution_count": 61,
          "metadata": {},
          "output_type": "execute_result"
        }
      ],
      "source": [
        "dec_2021_devs.set_index('Де ви мешкаєте?').groupby('Де ви мешкаєте?')['Зарплата у $$$ за місяць, лише ставка після сплати податків'].mean().sort_values(ascending=False)"
      ]
    },
    {
      "cell_type": "code",
      "execution_count": 62,
      "metadata": {},
      "outputs": [
        {
          "data": {
            "text/plain": [
              "Віддалено                               4709\n",
              "Частково віддалено, частково в офісі    2190\n",
              "В офісі                                  982\n",
              "Name: Де ви працюєте?, dtype: int64"
            ]
          },
          "execution_count": 62,
          "metadata": {},
          "output_type": "execute_result"
        }
      ],
      "source": [
        "dec_2021_devs['Де ви працюєте?'].value_counts()"
      ]
    },
    {
      "cell_type": "code",
      "execution_count": 64,
      "metadata": {},
      "outputs": [
        {
          "data": {
            "text/plain": [
              "10 і більше років    1700\n",
              "3 роки                870\n",
              "5 років               869\n",
              "4 роки                776\n",
              "6 років               690\n",
              "2 роки                605\n",
              "7 років               522\n",
              "1 рік                 408\n",
              "8 років               404\n",
              "1,5 року              338\n",
              "Пів року              321\n",
              "9 років               318\n",
              "Менше як 3 місяці      94\n",
              "3 місяці               90\n",
              "Name: Загальний стаж роботи в ІТ, dtype: int64"
            ]
          },
          "execution_count": 64,
          "metadata": {},
          "output_type": "execute_result"
        }
      ],
      "source": [
        "dec_2021_devs['Загальний стаж роботи в ІТ'].value_counts()"
      ]
    },
    {
      "cell_type": "code",
      "execution_count": 73,
      "metadata": {},
      "outputs": [],
      "source": [
        "import matplotlib.pyplot as plt"
      ]
    },
    {
      "cell_type": "code",
      "execution_count": 88,
      "metadata": {},
      "outputs": [],
      "source": [
        "import math"
      ]
    },
    {
      "cell_type": "code",
      "execution_count": 52,
      "metadata": {},
      "outputs": [
        {
          "data": {
            "text/plain": [
              "[<matplotlib.lines.Line2D at 0x7faebc1a1690>]"
            ]
          },
          "execution_count": 52,
          "metadata": {},
          "output_type": "execute_result"
        },
        {
          "data": {
            "image/png": "[encoded data removed]",
            "text/plain": [
              "<Figure size 640x480 with 1 Axes>"
            ]
          },
          "metadata": {},
          "output_type": "display_data"
        }
      ],
      "source": [
        "data = dec_2021_devs.groupby('Загальний стаж роботи в ІТ')['Зарплата у $$$ за місяць, лише ставка після сплати податків'].mean().sort_values()\n",
        "\n",
        "index = [0.2, 0.3, 0.5, 1, 1.5] + list(range(2, 11))\n",
        "\n",
        "sub = plt.subplot()\n",
        "sub.plot(index, data)\n",
        "sub.plot(index, [2100 * math.log(x + 1) for x in index])"
      ]
    },
    {
      "cell_type": "markdown",
      "metadata": {},
      "source": [
        "# Stack overflow survey analysis"
      ]
    },
    {
      "cell_type": "code",
      "execution_count": 39,
      "metadata": {},
      "outputs": [],
      "source": [
        "import pandas as pd"
      ]
    },
    {
      "cell_type": "code",
      "execution_count": 40,
      "metadata": {},
      "outputs": [],
      "source": [
        "dataset = pd.read_csv('./stack-overflow-developer-survey-2022/survey_results_public.csv', delimiter=',')"
      ]
    },
    {
      "cell_type": "code",
      "execution_count": 63,
      "metadata": {},
      "outputs": [
        {
          "data": {
            "text/plain": [
              "Index(['ResponseId', 'MainBranch', 'Employment', 'RemoteWork',\n",
              "       'CodingActivities', 'EdLevel', 'LearnCode', 'LearnCodeOnline',\n",
              "       'LearnCodeCoursesCert', 'YearsCode', 'YearsCodePro', 'DevType',\n",
              "       'OrgSize', 'PurchaseInfluence', 'BuyNewTool', 'Country', 'Currency',\n",
              "       'CompTotal', 'CompFreq', 'LanguageHaveWorkedWith',\n",
              "       'LanguageWantToWorkWith', 'DatabaseHaveWorkedWith',\n",
              "       'DatabaseWantToWorkWith', 'PlatformHaveWorkedWith',\n",
              "       'PlatformWantToWorkWith', 'WebframeHaveWorkedWith',\n",
              "       'WebframeWantToWorkWith', 'MiscTechHaveWorkedWith',\n",
              "       'MiscTechWantToWorkWith', 'ToolsTechHaveWorkedWith',\n",
              "       'ToolsTechWantToWorkWith', 'NEWCollabToolsHaveWorkedWith',\n",
              "       'NEWCollabToolsWantToWorkWith', 'OpSysProfessional use',\n",
              "       'OpSysPersonal use', 'VersionControlSystem', 'VCInteraction',\n",
              "       'VCHostingPersonal use', 'VCHostingProfessional use',\n",
              "       'OfficeStackAsyncHaveWorkedWith', 'OfficeStackAsyncWantToWorkWith',\n",
              "       'OfficeStackSyncHaveWorkedWith', 'OfficeStackSyncWantToWorkWith',\n",
              "       'Blockchain', 'NEWSOSites', 'SOVisitFreq', 'SOAccount', 'SOPartFreq',\n",
              "       'SOComm', 'Age', 'Gender', 'Trans', 'Sexuality', 'Ethnicity',\n",
              "       'Accessibility', 'MentalHealth', 'TBranch', 'ICorPM', 'WorkExp',\n",
              "       'Knowledge_1', 'Knowledge_2', 'Knowledge_3', 'Knowledge_4',\n",
              "       'Knowledge_5', 'Knowledge_6', 'Knowledge_7', 'Frequency_1',\n",
              "       'Frequency_2', 'Frequency_3', 'TimeSearching', 'TimeAnswering',\n",
              "       'Onboarding', 'ProfessionalTech', 'TrueFalse_1', 'TrueFalse_2',\n",
              "       'TrueFalse_3', 'SurveyLength', 'SurveyEase', 'ConvertedCompYearly'],\n",
              "      dtype='object')"
            ]
          },
          "execution_count": 63,
          "metadata": {},
          "output_type": "execute_result"
        }
      ],
      "source": [
        "dataset.columns"
      ]
    },
    {
      "cell_type": "code",
      "execution_count": 71,
      "metadata": {},
      "outputs": [
        {
          "name": "stdout",
          "output_type": "stream",
          "text": [
            "[nan 'JavaScript;TypeScript' 'C#;C++;HTML/CSS;JavaScript;Python' ...\n",
            " 'Assembly;C;C++;Java;TypeScript'\n",
            " 'Bash/Shell;Dart;JavaScript;PHP;Python;SQL;TypeScript'\n",
            " 'C#;JavaScript;Lua;PowerShell;SQL;TypeScript']\n"
          ]
        }
      ],
      "source": [
        "print(dataset[\"LanguageHaveWorkedWith\"].str.contains(\"Python\"))"
      ]
    },
    {
      "cell_type": "code",
      "execution_count": 41,
      "metadata": {},
      "outputs": [
        {
          "name": "stdout",
          "output_type": "stream",
          "text": [
            "I am a developer by profession                                                   53507\n",
            "I am learning to code                                                             6309\n",
            "I am not primarily a developer, but I write code sometimes as part of my work     5794\n",
            "I code primarily as a hobby                                                       4865\n",
            "None of these                                                                     1497\n",
            "I used to be a developer by profession, but no longer am                          1296\n",
            "Name: MainBranch, dtype: int64\n",
            "10                    5217\n",
            "5                     5193\n",
            "6                     4651\n",
            "4                     4480\n",
            "7                     4237\n",
            "8                     4227\n",
            "3                     4122\n",
            "2                     3351\n",
            "12                    2995\n",
            "15                    2962\n",
            "20                    2659\n",
            "9                     2581\n",
            "11                    1819\n",
            "14                    1811\n",
            "13                    1624\n",
            "25                    1582\n",
            "1                     1566\n",
            "Less than 1 year      1413\n",
            "16                    1406\n",
            "30                    1330\n",
            "22                    1176\n",
            "18                    1150\n",
            "17                    1080\n",
            "40                     777\n",
            "24                     752\n",
            "35                     742\n",
            "23                     644\n",
            "19                     563\n",
            "26                     489\n",
            "27                     485\n",
            "21                     483\n",
            "28                     425\n",
            "32                     371\n",
            "38                     288\n",
            "37                     277\n",
            "34                     241\n",
            "36                     236\n",
            "33                     229\n",
            "42                     216\n",
            "29                     208\n",
            "More than 50 years     172\n",
            "31                     170\n",
            "45                     167\n",
            "39                     159\n",
            "41                     143\n",
            "43                     115\n",
            "44                     104\n",
            "50                      68\n",
            "46                      57\n",
            "47                      42\n",
            "48                      41\n",
            "49                      35\n",
            "Name: YearsCode, dtype: int64\n",
            "170761.2778492816\n"
          ]
        }
      ],
      "source": [
        "print(dataset[\"MainBranch\"].value_counts())\n",
        "print(dataset[\"YearsCode\"].value_counts())\n",
        "print(dataset[\"ConvertedCompYearly\"].mean())"
      ]
    },
    {
      "cell_type": "code",
      "execution_count": 42,
      "metadata": {},
      "outputs": [],
      "source": [
        "import matplotlib.pyplot as plt"
      ]
    },
    {
      "cell_type": "code",
      "execution_count": 43,
      "metadata": {},
      "outputs": [
        {
          "data": {
            "text/plain": [
              "[<matplotlib.lines.Line2D at 0x7faebba70460>]"
            ]
          },
          "execution_count": 43,
          "metadata": {},
          "output_type": "execute_result"
        },
        {
          "data": {
            "image/png": "[encoded data removed]",
            "text/plain": [
              "<Figure size 640x480 with 1 Axes>"
            ]
          },
          "metadata": {},
          "output_type": "display_data"
        }
      ],
      "source": [
        "data = dataset.dropna(subset=['ConvertedCompYearly']).groupby('YearsCode')['ConvertedCompYearly']\n",
        "\n",
        "\n",
        "converter = {\n",
        "    \"More than 50 years\": 51,\n",
        "    \"Less than 1 year\": 0.5,\n",
        "}\n",
        "\n",
        "devs_per_years = []\n",
        "index = sorted(dataset['YearsCode'].dropna().unique(), key=lambda x: float(converter.get(x, x)))\n",
        "for x in index:\n",
        "    y = dataset[dataset[\"YearsCode\"] == x][\"ConvertedCompYearly\"].dropna().shape[0]\n",
        "    devs_per_years.append(y)\n",
        "\n",
        "plt.plot([converter.get(x, x) for x in index], devs_per_years)"
      ]
    },
    {
      "cell_type": "code",
      "execution_count": 44,
      "metadata": {},
      "outputs": [
        {
          "data": {
            "text/plain": [
              "[<matplotlib.lines.Line2D at 0x7faec06fc8e0>]"
            ]
          },
          "execution_count": 44,
          "metadata": {},
          "output_type": "execute_result"
        },
        {
          "data": {
            "image/png": "[encoded data removed]",
            "text/plain": [
              "<Figure size 640x480 with 1 Axes>"
            ]
          },
          "metadata": {},
          "output_type": "display_data"
        }
      ],
      "source": [
        "data = data.median()\n",
        "\n",
        "plt.plot([converter.get(x, x) for x in data.index], data)"
      ]
    },
    {
      "cell_type": "code",
      "execution_count": 75,
      "metadata": {},
      "outputs": [],
      "source": [
        "def build_graph(dataset):\n",
        "    def lower_res(years):\n",
        "        i = int(converter.get(years, years))\n",
        "        if i <= 10:\n",
        "            return i\n",
        "        return 11\n",
        "\n",
        "    dataset_cropped = dataset.dropna(subset=[\"YearsCode\"])\n",
        "    dataset_cropped[\"YearsCode - Less detailed\"] = dataset_cropped[\"YearsCode\"].apply(lower_res)\n",
        "    dataset_cropped = dataset_cropped[dataset_cropped[\"YearsCode - Less detailed\"] < 11]\n",
        "    print(dataset_cropped.shape[0], \"rows\")\n",
        "\n",
        "    devs_per_years = []\n",
        "    index = sorted(dataset_cropped['YearsCode - Less detailed'].dropna().unique())\n",
        "    for x in index:\n",
        "        y = dataset_cropped[dataset_cropped[\"YearsCode - Less detailed\"] == x][\"ConvertedCompYearly\"].dropna().median()\n",
        "        devs_per_years.append(y)\n",
        "\n",
        "    plt.plot([converter.get(x, x) for x in index], devs_per_years)"
      ]
    },
    {
      "cell_type": "code",
      "execution_count": 76,
      "metadata": {},
      "outputs": [
        {
          "name": "stderr",
          "output_type": "stream",
          "text": [
            "/tmp/ipykernel_31759/590646749.py:9: SettingWithCopyWarning: \n",
            "A value is trying to be set on a copy of a slice from a DataFrame.\n",
            "Try using .loc[row_indexer,col_indexer] = value instead\n",
            "\n",
            "See the caveats in the documentation: https://pandas.pydata.org/pandas-docs/stable/user_guide/indexing.html#returning-a-view-versus-a-copy\n",
            "  dataset_cropped[\"YearsCode - Less detailed\"] = dataset_cropped[\"YearsCode\"].apply(lower_res)\n"
          ]
        },
        {
          "name": "stdout",
          "output_type": "stream",
          "text": [
            "21453 rows\n"
          ]
        },
        {
          "data": {
            "image/png": "[encoded data removed]",
            "text/plain": [
              "<Figure size 640x480 with 1 Axes>"
            ]
          },
          "metadata": {},
          "output_type": "display_data"
        }
      ],
      "source": [
        "bool_index = dataset[\"LanguageHaveWorkedWith\"].str.contains(\"Python\")\n",
        "na_index = bool_index.notna()\n",
        "build_graph(dataset[na_index][bool_index.dropna()])"
      ]
    }
  ],
  "metadata": {
    "colab": {
      "provenance": []
    },
    "kernelspec": {
      "display_name": "Python 3.10.8 64-bit",
      "language": "python",
      "name": "python3"
    },
    "language_info": {
      "codemirror_mode": {
        "name": "ipython",
        "version": 3
      },
      "file_extension": ".py",
      "mimetype": "text/x-python",
      "name": "python",
      "nbconvert_exporter": "python",
      "pygments_lexer": "ipython3",
      "version": "3.10.8"
    },
    "vscode": {
      "interpreter": {
        "hash": "e7370f93d1d0cde622a1f8e1c04877d8463912d04d973331ad4851f04de6915a"
      }
    }
  },
  "nbformat": 4,
  "nbformat_minor": 0
}
